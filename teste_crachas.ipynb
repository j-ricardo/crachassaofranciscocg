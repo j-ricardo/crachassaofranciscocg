{
 "cells": [
  {
   "cell_type": "code",
   "execution_count": 103,
   "metadata": {},
   "outputs": [],
   "source": [
    "import io, pandas as pd, os\n",
    "from PyPDF2 import PdfWriter, PdfReader\n",
    "from reportlab.pdfgen import canvas\n",
    "from reportlab.lib.pagesizes import A4\n",
    "from reportlab.pdfbase import pdfmetrics\n",
    "from reportlab.pdfbase.ttfonts import TTFont\n",
    "from PIL import ImageFont\n",
    "\n",
    "pdfmetrics.registerFont(TTFont('Montserrat-Bold', './FONTES/Montserrat-Bold.ttf'))\n",
    "font = ImageFont.truetype('./FONTES/Montserrat-Bold.ttf', 13)"
   ]
  },
  {
   "cell_type": "code",
   "execution_count": 117,
   "metadata": {},
   "outputs": [],
   "source": [
    "def cria_crachas(path_planilha, modelo):\n",
    "    df = pd.read_excel(path_planilha)\n",
    "    contagem = 1\n",
    "    pagina = 1\n",
    "    packet = io.BytesIO()\n",
    "    can = canvas.Canvas(packet, pagesize=A4)\n",
    "    t = df.columns[0].replace('/', '')\n",
    "    local_saida = f'./SAIDA/CRACHAS_{t}.pdf'\n",
    "    pos_inc = 0\n",
    "    \n",
    "    output = PdfWriter()\n",
    "    for index, row in df.iterrows():\n",
    "        nome = f'{row[0].upper().replace(\"MAYANNE\", \"MAYNNE\")}'\n",
    "        if (len(nome) < 18): \n",
    "            size = font.getsize(nome)[0]         \n",
    "            pos_inc = abs(166 - size)/2\n",
    "        elif (len(nome) > 18):\n",
    "            nome = nome[0:18]\n",
    "            size = font.getsize(nome)[0]           \n",
    "            pos_inc = abs(166 - size)/2\n",
    "        else:\n",
    "            size = font.getsize(nome)[0]           \n",
    "            pos_inc = abs(166 - size)/2\n",
    "\n",
    "        if contagem == 1:\n",
    "            packet = io.BytesIO()\n",
    "            can = canvas.Canvas(packet, pagesize=A4)\n",
    "            can.setPageRotation(90)\n",
    "            can.setFillColorRGB(0.170, 0.140, 0.100)\n",
    "            can.setFont(\"Montserrat-Bold\", 13)\n",
    "            can.drawString(108 + pos_inc, 365, nome)\n",
    "        elif contagem == 2:\n",
    "            can.drawString(339 + pos_inc, 365, nome)\n",
    "        elif contagem == 3:\n",
    "            can.drawString(570 + pos_inc, 365, nome)\n",
    "        elif contagem == 4:\n",
    "            can.drawString(108 + pos_inc, 78, nome)\n",
    "        elif contagem == 5:\n",
    "            can.drawString(339 + pos_inc, 78, nome)\n",
    "        elif contagem == 6:\n",
    "            can.drawString(570 + pos_inc, 78, nome)\n",
    "\n",
    "        if (index == (len(df) - 1) or contagem == 6):\n",
    "            can.save()\n",
    "            packet.seek(0)\n",
    "            new_pdf = PdfReader(packet)\n",
    "            existing_pdf = PdfReader(open(modelo, \"rb\"))\n",
    "            \n",
    "            page = existing_pdf.pages[0]\n",
    "            page.merge_page(new_pdf.pages[0])\n",
    "            output.add_page(page)\n",
    "\n",
    "            if (index < (len(df) - 1) and contagem == 6):\n",
    "                contagem = 1\n",
    "                pagina += 1\n",
    "            else:\n",
    "                outputStream = open(local_saida, \"wb\")\n",
    "                output.write(outputStream)\n",
    "                outputStream.close()\n",
    "                pagina = 1\n",
    "                contagem = 1\n",
    "        else:\n",
    "            contagem += 1"
   ]
  },
  {
   "cell_type": "code",
   "execution_count": 118,
   "metadata": {},
   "outputs": [
    {
     "name": "stderr",
     "output_type": "stream",
     "text": [
      "C:\\Users\\ricar\\AppData\\Local\\Temp\\ipykernel_11040\\1048132050.py:15: DeprecationWarning: getsize is deprecated and will be removed in Pillow 10 (2023-07-01). Use getbbox or getlength instead.\n",
      "  size = font.getsize(nome)[0]\n"
     ]
    }
   ],
   "source": [
    "cria_crachas('./PLANILHAS/COMPRAS VERMELHO.xlsx', './MODELO/CRACHA - VERMELHO.pdf')\n",
    "cria_crachas('./PLANILHAS/GERAL VERDE.xlsx', './MODELO/CRACHA - VERDE.pdf')\n",
    "cria_crachas('./PLANILHAS/LANCHINHO CRACHA AMARELO.xlsx', './MODELO/CRACHA - AMARELO.pdf')\n",
    "cria_crachas('./PLANILHAS/TRANSITO AMARELO.xlsx', './MODELO/CRACHA - AMARELO.pdf')"
   ]
  }
 ],
 "metadata": {
  "kernelspec": {
   "display_name": "Python 3",
   "language": "python",
   "name": "python3"
  },
  "language_info": {
   "codemirror_mode": {
    "name": "ipython",
    "version": 3
   },
   "file_extension": ".py",
   "mimetype": "text/x-python",
   "name": "python",
   "nbconvert_exporter": "python",
   "pygments_lexer": "ipython3",
   "version": "3.11.2"
  },
  "orig_nbformat": 4
 },
 "nbformat": 4,
 "nbformat_minor": 2
}
