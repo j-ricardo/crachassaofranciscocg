{
 "cells": [
  {
   "cell_type": "code",
   "execution_count": 22,
   "metadata": {},
   "outputs": [],
   "source": [
    "import io\n",
    "from PyPDF2 import PdfWriter, PdfReader\n",
    "from reportlab.pdfgen import canvas\n",
    "from reportlab.lib.pagesizes import A4"
   ]
  },
  {
   "cell_type": "code",
   "execution_count": 42,
   "metadata": {},
   "outputs": [],
   "source": [
    "packet = io.BytesIO()\n",
    "can = canvas.Canvas(packet, pagesize=A4)\n",
    "can.setPageRotation(90)\n",
    "can.setFillColorRGB(1, 0, 0)\n",
    "can.setFont(\"Times-Roman\", 14)\n",
    "#1 CRACHA\n",
    "can.drawString(108, 365, \"ABCDEFGHIJKLMNOPQR\")\n",
    "#2 CRACHA\n",
    "can.drawString(339, 365, \"ABCDEFGHIJKLMNOPQR\")\n",
    "#3 CRACHA\n",
    "can.drawString(570, 365, \"ABCDEFGHIJKLMNOPQR\")\n",
    "#4 CRACHA\n",
    "can.drawString(108, 78, \"ABCDEFGHIJKLMNOPQR\")\n",
    "#5 CRACHA\n",
    "can.drawString(339, 78, \"ABCDEFGHIJKLMNOPQR\")\n",
    "#6 CRACHA\n",
    "can.drawString(570, 78, \"ABCDEFGHIJKLMNOPQR\")\n",
    "can.save()\n",
    "packet.seek(0)\n",
    "new_pdf = PdfReader(packet)\n",
    "existing_pdf = PdfReader(open(\"CRACHA - AMARELO.pdf\", \"rb\"))\n",
    "output = PdfWriter()\n",
    "page = existing_pdf.pages[0]\n",
    "page.merge_page(new_pdf.pages[0])\n",
    "output.add_page(page)\n",
    "outputStream = open(\"destination.pdf\", \"wb\")\n",
    "output.write(outputStream)\n",
    "outputStream.close()"
   ]
  }
 ],
 "metadata": {
  "kernelspec": {
   "display_name": "Python 3",
   "language": "python",
   "name": "python3"
  },
  "language_info": {
   "codemirror_mode": {
    "name": "ipython",
    "version": 3
   },
   "file_extension": ".py",
   "mimetype": "text/x-python",
   "name": "python",
   "nbconvert_exporter": "python",
   "pygments_lexer": "ipython3",
   "version": "3.11.2"
  },
  "orig_nbformat": 4
 },
 "nbformat": 4,
 "nbformat_minor": 2
}
